{
 "cells": [
  {
   "cell_type": "code",
   "execution_count": 1,
   "id": "70ae95fc",
   "metadata": {},
   "outputs": [
    {
     "name": "stdout",
     "output_type": "stream",
     "text": [
      "Collecting pymongo\n",
      "  Downloading pymongo-4.3.3-cp311-cp311-win_amd64.whl (382 kB)\n",
      "     ---------------------------------------- 0.0/382.5 kB ? eta -:--:--\n",
      "     - -------------------------------------- 10.2/382.5 kB ? eta -:--:--\n",
      "     ----------- -------------------------- 112.6/382.5 kB 1.1 MB/s eta 0:00:01\n",
      "     ------------------------ ------------- 245.8/382.5 kB 1.7 MB/s eta 0:00:01\n",
      "     -------------------------------------  378.9/382.5 kB 2.0 MB/s eta 0:00:01\n",
      "     -------------------------------------- 382.5/382.5 kB 2.0 MB/s eta 0:00:00\n",
      "Collecting dnspython<3.0.0,>=1.16.0\n",
      "  Downloading dnspython-2.3.0-py3-none-any.whl (283 kB)\n",
      "     ---------------------------------------- 0.0/283.7 kB ? eta -:--:--\n",
      "     -------------------------- ----------- 194.6/283.7 kB 5.9 MB/s eta 0:00:01\n",
      "     -------------------------------------- 283.7/283.7 kB 3.5 MB/s eta 0:00:00\n",
      "Installing collected packages: dnspython, pymongo\n",
      "Successfully installed dnspython-2.3.0 pymongo-4.3.3\n",
      "Note: you may need to restart the kernel to use updated packages.\n"
     ]
    }
   ],
   "source": [
    "pip install pymongo\n"
   ]
  },
  {
   "cell_type": "code",
   "execution_count": 5,
   "id": "3e7f16e7",
   "metadata": {},
   "outputs": [
    {
     "name": "stdout",
     "output_type": "stream",
     "text": [
      "connected\n"
     ]
    }
   ],
   "source": [
    "import pymongo\n",
    "myclient = pymongo.MongoClient('mongodb://localhost:27017/')\n",
    "mydb=myclient['mydatabase']\n",
    "print('connected')"
   ]
  },
  {
   "cell_type": "code",
   "execution_count": 6,
   "id": "220ab2f3",
   "metadata": {},
   "outputs": [
    {
     "name": "stdout",
     "output_type": "stream",
     "text": [
      "<pymongo.results.InsertOneResult object at 0x0000016997207EE0>\n"
     ]
    }
   ],
   "source": [
    "import pymongo\n",
    "myclient = pymongo.MongoClient('mongodb://localhost:27017/')\n",
    "mydb=myclient['Theerdha']\n",
    "mycol=mydb['Aishu']\n",
    "mydict={'name': 'Sampath', 'origin':'Kakinada'}\n",
    "x=mycol.insert_one(mydict)\n",
    "print(x)"
   ]
  },
  {
   "cell_type": "code",
   "execution_count": 11,
   "id": "5b4f304e",
   "metadata": {},
   "outputs": [
    {
     "name": "stdout",
     "output_type": "stream",
     "text": [
      "{'_id': ObjectId('63feda1c4a253d9dfcf3a9aa'), 'name': 'Sampath', 'origin': 'AP'}\n"
     ]
    }
   ],
   "source": [
    "import pymongo\n",
    "myclient = pymongo.MongoClient('mongodb://localhost:27017/')\n",
    "mydb=myclient['Theerdha']\n",
    "mycol=mydb['Aishu']\n",
    "x=mycol.find_one()\n",
    "print(x)"
   ]
  },
  {
   "cell_type": "code",
   "execution_count": null,
   "id": "76c6d391",
   "metadata": {},
   "outputs": [],
   "source": []
  }
 ],
 "metadata": {
  "kernelspec": {
   "display_name": "Python 3 (ipykernel)",
   "language": "python",
   "name": "python3"
  },
  "language_info": {
   "codemirror_mode": {
    "name": "ipython",
    "version": 3
   },
   "file_extension": ".py",
   "mimetype": "text/x-python",
   "name": "python",
   "nbconvert_exporter": "python",
   "pygments_lexer": "ipython3",
   "version": "3.12.0"
  }
 },
 "nbformat": 4,
 "nbformat_minor": 5
}
